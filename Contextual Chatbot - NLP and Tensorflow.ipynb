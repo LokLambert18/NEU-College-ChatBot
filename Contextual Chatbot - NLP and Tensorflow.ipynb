{
 "cells": [
  {
   "cell_type": "markdown",
   "metadata": {},
   "source": [
    "# CHATBOTS - Using Natural Language Processing and Tensorflow"
   ]
  },
  {
   "cell_type": "markdown",
   "metadata": {},
   "source": [
    "In this Jupyter Notebook, We are going to Build a College Enquiry Chatbot that Understands the Context of Sentence and Respond accordingly.\n",
    "These are the Things that we are going to do in this Project -\n",
    "1. Transforming the Conversational Intents into Tensorflow model (Neural Network using TFLEARN) using NLP and Save it as Pickle also.\n",
    "2. Load the Same Pickle and Model to Build the Framework to Process the Responses.\n",
    "3. At Last, We Show How the Inputs are Processed and Give the Reponses.\n",
    "-------------------------------------------------------------------------------------------------------\n",
    "\n",
    "##### TFLEARN  - TFlearn is a modular and transparent deep learning library built on top of Tensorflow. It was designed to provide a higher-level API to TensorFlow in order to facilitate and speed-up experimentations, while remaining fully transparent and compatible with it.  (http://tflearn.org/)\n",
    "-------------------------------------------------------------------------------------------------------\n",
    "##### TENSORFLOW - TensorFlow is an end-to-end open source platform for machine learning. It has a comprehensive, flexible ecosystem of tools, libraries and community resources that lets researchers push the state-of-the-art in ML and developers easily build and deploy ML powered applications.\n"
   ]
  },
  {
   "cell_type": "code",
   "execution_count": null,
   "metadata": {
    "scrolled": true
   },
   "outputs": [],
   "source": []
  },
  {
   "cell_type": "markdown",
   "metadata": {},
   "source": [
    "Libraries "
   ]
  },
  {
   "cell_type": "code",
   "execution_count": 1,
   "metadata": {},
   "outputs": [
    {
     "name": "stdout",
     "output_type": "stream",
     "text": [
      "WARNING:tensorflow:From C:\\Users\\sujit\\anaconda3\\lib\\site-packages\\tensorflow\\python\\compat\\v2_compat.py:107: disable_resource_variables (from tensorflow.python.ops.variable_scope) is deprecated and will be removed in a future version.\n",
      "Instructions for updating:\n",
      "non-resource variables are not supported in the long term\n",
      "curses is not supported on this machine (please install/reinstall curses for an optimal experience)\n"
     ]
    }
   ],
   "source": [
    "#Used in Tensorflow Model\n",
    "import numpy as np\n",
    "import tensorflow as tf \n",
    "\n",
    "import tflearn\n",
    "import random\n",
    "\n",
    "#Usde to for Contextualisation and Other NLP Tasks.\n",
    "import nltk\n",
    "from nltk.stem.lancaster import LancasterStemmer\n",
    "stemmer = LancasterStemmer()\n",
    "\n",
    "#Other\n",
    "import json\n",
    "import pickle\n",
    "import warnings\n",
    "warnings.filterwarnings(\"ignore\")"
   ]
  },
  {
   "cell_type": "code",
   "execution_count": 2,
   "metadata": {},
   "outputs": [
    {
     "name": "stdout",
     "output_type": "stream",
     "text": [
      "Processing the Intents.....\n"
     ]
    }
   ],
   "source": [
    "print(\"Processing the Intents.....\")\n",
    "with open('intents1.json') as json_data:\n",
    "    intents = json.load(json_data)"
   ]
  },
  {
   "cell_type": "code",
   "execution_count": 3,
   "metadata": {},
   "outputs": [
    {
     "name": "stdout",
     "output_type": "stream",
     "text": [
      "Looping through the Intents to Convert them to words, classes, documents and ignore_words.......\n"
     ]
    }
   ],
   "source": [
    "words = []\n",
    "classes = []\n",
    "documents = []\n",
    "ignore_words = ['?']\n",
    "print(\"Looping through the Intents to Convert them to words, classes, documents and ignore_words.......\")\n",
    "for intent in intents['intents']:\n",
    "    for pattern in intent['patterns']:\n",
    "        # tokenize each word in the sentence\n",
    "        w = nltk.word_tokenize(pattern)\n",
    "        # add to our words list\n",
    "        words.extend(w)\n",
    "        # add to documents in our corpus\n",
    "        documents.append((w, intent['tag']))\n",
    "        # add to our classes list\n",
    "        if intent['tag'] not in classes:\n",
    "            classes.append(intent['tag'])"
   ]
  },
  {
   "cell_type": "code",
   "execution_count": 4,
   "metadata": {},
   "outputs": [
    {
     "name": "stdout",
     "output_type": "stream",
     "text": [
      "Stemming, Lowering and Removing Duplicates.......\n",
      "482 documents\n",
      "44 classes ['admission', 'autohod', 'canteen', 'civilhod', 'college intake', 'comphod', 'course', 'creator', 'document', 'elechod', 'event', 'extchod', 'facilities', 'faculty', 'faculty portal', 'fees', 'fehod', 'fest', 'goodbye', 'greeting', 'hod', 'hostel', 'hours', 'infrastructure', 'ithod', 'library', 'location', 'mechhod', 'menu', 'name', 'number', 'placement', 'principal', 'ragging', 'random', 'salutaion', 'scholarship', 'sports', 'student portal', 'swear', 'syllabus', 'task', 'transport', 'uniform']\n",
      "242 unique stemmed words [\"'s\", 'a', 'about', 'act', 'address', 'admid', 'admit', 'allot', 'am', 'an', 'and', 'antirag', 'any', 'anyon', 'ar', 'ass', 'asshol', 'at', 'attend', 'auto', 'automobl', 'av', 'avail', 'be', 'between', 'big', 'bitch', 'book', 'branch', 'bring', 'build', 'buld', 'bus', 'by', 'bye', 'cafetar', 'cal', 'can', 'canteen', 'capac', 'cas', 'chat', 'civil', 'cod', 'colleg', 'com', 'comp', 'company', 'comput', 'conduc', 'contact', 'cours', 'cre', 'criter', 'cya', 'day', 'depart', 'design', 'detail', 'develop', 'dist', 'do', 'docu', 'doe', 'don', 'dress', 'dresscod', 'dtc', 'dumb', 'dur', 'each', 'elect', 'elig', 'engin', 'enigin', 'eufor', 'ev', 'extc', 'facil', 'facul', 'far', 'fcaul', 'fe', 'fee', 'fest', 'first', 'flo', 'food', 'for', 'four', 'from', 'fuck', 'funct', 'gam', 'get', 'giv', 'go', 'good', 'goodby', 'got', 'gtg', 'guy', 'hav', 'hel', 'held', 'hello', 'help', 'her', 'heyy', 'hi', 'hist', 'hod', 'hostel', 'hour', 'how', 'i', 'idiot', 'in', 'incid', 'info', 'inform', 'infrastruct', 'intak', 'is', 'it', 'job', 'juny', 'k', 'lab', 'lat', 'leav', 'lect', 'libr', 'link', 'list', 'loc', 'login', 'lov', 'mad', 'many', 'marry', 'max', 'maxim', 'me', 'mech', 'menu', 'mod', 'mor', 'much', 'my', 'nam', 'nee', 'neu', 'next', 'nic', 'no', 'numb', 'of', 'off', 'ok', 'okay', 'okk', 'oky', 'on', 'op', 'org', 'pack', 'per', 'phon', 'plac', 'pleas', 'port', 'pract', 'princip', 'process', 'provid', 'rag', 'reach', 'receipt', 'recruit', 'requir', 'rout', 'saturday', 'scholarship', 'scholarships', 'se', 'seat', 'second', 'see', 'semest', 'serv', 'should', 'shut', 'someth', 'sport', 'staff', 'stud', 'stund', 'stupid', 'syllab', 'tak', 'talk', 'te', 'tech', 'technolog', 'tel', 'telephon', 'thank', 'the', 'ther', 'thi', 'thing', 'third', 'tim', 'timet', 'to', 'transport', 'travel', 'tyyl', 'u', 'uniform', 'up', 'us', 'visit', 'we', 'wear', 'wel', 'what', 'whatsup', 'whatv', 'when', 'wher', 'which', 'who', 'whom', 'why', 'wil', 'work', 'ya', 'year', 'yo', 'you']\n"
     ]
    }
   ],
   "source": [
    "print(\"Stemming, Lowering and Removing Duplicates.......\")\n",
    "words = [stemmer.stem(w.lower()) for w in words if w not in ignore_words]\n",
    "words = sorted(list(set(words)))\n",
    "\n",
    "# remove duplicates\n",
    "classes = sorted(list(set(classes)))\n",
    "\n",
    "print (len(documents), \"documents\")\n",
    "print (len(classes), \"classes\", classes)\n",
    "print (len(words), \"unique stemmed words\", words)"
   ]
  },
  {
   "cell_type": "code",
   "execution_count": 5,
   "metadata": {},
   "outputs": [
    {
     "name": "stdout",
     "output_type": "stream",
     "text": [
      "Creating the Data for our Model.....\n",
      "Creating an List (Empty) for Output.....\n",
      "Creating Training Set, Bag of Words for our Model....\n"
     ]
    }
   ],
   "source": [
    "print(\"Creating the Data for our Model.....\")\n",
    "training = []\n",
    "output = []\n",
    "print(\"Creating an List (Empty) for Output.....\")\n",
    "output_empty = [0] * len(classes)\n",
    "\n",
    "print(\"Creating Training Set, Bag of Words for our Model....\")\n",
    "for doc in documents:\n",
    "    # initialize our bag of words\n",
    "    bag = []\n",
    "    # list of tokenized words for the pattern\n",
    "    pattern_words = doc[0]\n",
    "    # stem each word\n",
    "    pattern_words = [stemmer.stem(word.lower()) for word in pattern_words]\n",
    "    # create our bag of words array\n",
    "    for w in words:\n",
    "        bag.append(1) if w in pattern_words else bag.append(0)\n",
    "\n",
    "    # output is a '0' for each tag and '1' for current tag\n",
    "    output_row = list(output_empty)\n",
    "    output_row[classes.index(doc[1])] = 1\n",
    "\n",
    "    training.append([bag, output_row])"
   ]
  },
  {
   "cell_type": "code",
   "execution_count": 6,
   "metadata": {},
   "outputs": [
    {
     "name": "stdout",
     "output_type": "stream",
     "text": [
      "Shuffling Randomly and Converting into Numpy Array for Faster Processing......\n",
      "Creating Train and Test Lists.....\n",
      "Building Neural Network for Out Chatbot to be Contextual....\n",
      "Resetting graph data....\n"
     ]
    }
   ],
   "source": [
    "from tensorflow.python.framework import ops\n",
    "\n",
    "print(\"Shuffling Randomly and Converting into Numpy Array for Faster Processing......\")\n",
    "random.shuffle(training)\n",
    "training = np.array(training)\n",
    "\n",
    "print(\"Creating Train and Test Lists.....\")\n",
    "train_x = list(training[:,0])\n",
    "train_y = list(training[:,1])\n",
    "print(\"Building Neural Network for Out Chatbot to be Contextual....\")\n",
    "print(\"Resetting graph data....\")\n",
    "ops.reset_default_graph()"
   ]
  },
  {
   "cell_type": "code",
   "execution_count": 7,
   "metadata": {},
   "outputs": [
    {
     "name": "stdout",
     "output_type": "stream",
     "text": [
      "WARNING:tensorflow:From C:\\Users\\sujit\\anaconda3\\lib\\site-packages\\tflearn\\initializations.py:164: calling TruncatedNormal.__init__ (from tensorflow.python.ops.init_ops) with dtype is deprecated and will be removed in a future version.\n",
      "Instructions for updating:\n",
      "Call initializer instance with the dtype argument instead of passing it to the constructor\n",
      "Training....\n"
     ]
    }
   ],
   "source": [
    "net = tflearn.input_data(shape=[None, len(train_x[0])])\n",
    "net = tflearn.fully_connected(net, 8)\n",
    "net = tflearn.fully_connected(net, 8)\n",
    "net = tflearn.fully_connected(net, len(train_y[0]), activation='softmax')\n",
    "net = tflearn.regression(net)\n",
    "print(\"Training....\")"
   ]
  },
  {
   "cell_type": "code",
   "execution_count": 8,
   "metadata": {},
   "outputs": [],
   "source": [
    "model = tflearn.DNN(net, tensorboard_dir='tflearn_logs')"
   ]
  },
  {
   "cell_type": "code",
   "execution_count": 9,
   "metadata": {},
   "outputs": [
    {
     "name": "stdout",
     "output_type": "stream",
     "text": [
      "Training Step: 60999  | total loss: \u001b[1m\u001b[32m0.00058\u001b[0m\u001b[0m | time: 0.083s\n",
      "| Adam | epoch: 1000 | loss: 0.00058 - acc: 0.9998 -- iter: 480/482\n",
      "Training Step: 61000  | total loss: \u001b[1m\u001b[32m0.00053\u001b[0m\u001b[0m | time: 0.096s\n",
      "| Adam | epoch: 1000 | loss: 0.00053 - acc: 0.9998 -- iter: 482/482\n",
      "--\n",
      "Saving the Model.......\n",
      "INFO:tensorflow:C:\\Users\\sujit\\Downloads\\AI_ChatBot_Python-master (1)\\AI_ChatBot_Python-master\\AI_ChatBot_Python-master\\model.tflearn is not in all_model_checkpoint_paths. Manually adding it.\n"
     ]
    }
   ],
   "source": [
    "print(\"Training the Model.......\")\n",
    "model.fit(train_x, train_y, n_epoch=1000, batch_size=8, show_metric=True)\n",
    "print(\"Saving the Model.......\")\n",
    "model.save('model.tflearn')\n"
   ]
  },
  {
   "cell_type": "code",
   "execution_count": 10,
   "metadata": {},
   "outputs": [
    {
     "name": "stdout",
     "output_type": "stream",
     "text": [
      "Pickle is also Saved..........\n"
     ]
    }
   ],
   "source": [
    "print(\"Pickle is also Saved..........\")\n",
    "pickle.dump( {'words':words, 'classes':classes, 'train_x':train_x, 'train_y':train_y}, open( \"training_data\", \"wb\" ) )"
   ]
  },
  {
   "cell_type": "code",
   "execution_count": 11,
   "metadata": {},
   "outputs": [
    {
     "name": "stdout",
     "output_type": "stream",
     "text": [
      "Loading Pickle.....\n",
      "Loading the Model......\n",
      "INFO:tensorflow:Restoring parameters from C:\\Users\\sujit\\Downloads\\AI_ChatBot_Python-master (1)\\AI_ChatBot_Python-master\\AI_ChatBot_Python-master\\model.tflearn\n"
     ]
    }
   ],
   "source": [
    "print(\"Loading Pickle.....\")\n",
    "data = pickle.load( open( \"training_data\", \"rb\" ) )\n",
    "words = data['words']\n",
    "classes = data['classes']\n",
    "train_x = data['train_x']\n",
    "train_y = data['train_y']\n",
    "\n",
    "\n",
    "with open('intents1.json') as json_data:\n",
    "    intents = json.load(json_data)\n",
    "    \n",
    "print(\"Loading the Model......\")\n",
    "# load our saved model\n",
    "model.load('./model.tflearn')"
   ]
  },
  {
   "cell_type": "code",
   "execution_count": 12,
   "metadata": {},
   "outputs": [
    {
     "name": "stdout",
     "output_type": "stream",
     "text": [
      "ERROR_THRESHOLD = 0.25\n"
     ]
    }
   ],
   "source": [
    "def clean_up_sentence(sentence):\n",
    "    # It Tokenize or Break it into the constituents parts of Sentense.\n",
    "    sentence_words = nltk.word_tokenize(sentence)\n",
    "    # Stemming means to find the root of the word.\n",
    "    sentence_words = [stemmer.stem(word.lower()) for word in sentence_words]\n",
    "    return sentence_words\n",
    "\n",
    "# Return the Array of Bag of Words: True or False and 0 or 1 for each word of bag that exists in the Sentence\n",
    "def bow(sentence, words, show_details=False):\n",
    "    sentence_words = clean_up_sentence(sentence)\n",
    "    bag = [0]*len(words)\n",
    "    for s in sentence_words:\n",
    "        for i,w in enumerate(words):\n",
    "            if w == s:\n",
    "                bag[i] = 1\n",
    "                if show_details:\n",
    "                    print (\"found in bag: %s\" % w)\n",
    "    return(np.array(bag))\n",
    "\n",
    "ERROR_THRESHOLD = 0.25\n",
    "print(\"ERROR_THRESHOLD = 0.25\")\n",
    "\n",
    "def classify(sentence):\n",
    "    # Prediction or To Get the Posibility or Probability from the Model\n",
    "    results = model.predict([bow(sentence, words)])[0]\n",
    "    # Exclude those results which are Below Threshold\n",
    "    results = [[i,r] for i,r in enumerate(results) if r>ERROR_THRESHOLD]\n",
    "    # Sorting is Done because heigher Confidence Answer comes first.\n",
    "    results.sort(key=lambda x: x[1], reverse=True)\n",
    "    return_list = []\n",
    "    for r in results:\n",
    "        return_list.append((classes[r[0]], r[1])) #Tuppl -> Intent and Probability\n",
    "    return return_list\n",
    "\n",
    "def response(sentence, userID='123', show_details=False):\n",
    "    results = classify(sentence)\n",
    "    # That Means if Classification is Done then Find the Matching Tag.\n",
    "    if results:\n",
    "        # Long Loop to get the Result.\n",
    "        while results:\n",
    "            for i in intents['intents']:\n",
    "                # Tag Finding\n",
    "                if i['tag'] == results[0][0]:\n",
    "                    # Random Response from High Order Probabilities\n",
    "                    return print(random.choice(i['responses']))\n",
    "\n",
    "            results.pop(0)"
   ]
  },
  {
   "cell_type": "code",
   "execution_count": null,
   "metadata": {},
   "outputs": [],
   "source": [
    "\n"
   ]
  },
  {
   "cell_type": "code",
   "execution_count": null,
   "metadata": {},
   "outputs": [
    {
     "name": "stdout",
     "output_type": "stream",
     "text": [
      "You- Hi\n",
      "Hi there, how can I help?\n",
      "You- Who created you?\n",
      "Sujith Naarayan .H  developed me in 2022, for his project\n",
      "You- What's the ranking?\n",
      "I am not program for this please ask appropriate query\n",
      "You- What's the ranking of the university?\n",
      "Dr. Mathew T. Joseph is college principal who is available on 1st floor. To know more visit <a target=\"_blank\" href=\"https://NEU.ac.in/faculty/faculty-directory/\">here</a>\n",
      "You- S\n",
      "360 Huntington Ave, Boston, MA 02115, United States\n",
      "You- Contact info\n",
      "You can contact at +1 617-373-2000 \n",
      "You- How's the faculty?\n",
      "NEU has a highly qualified and experienced faculty. For details visit <a target=\"_blank\" href=/\"https://NEU.ac.in/faculty/faculty-directory/\">here</a>\n",
      "You- How's the curriculum?\n",
      " For campus tour please visit the following link.<a target=\"_blank\" href=\"https://NEU.ac.in/about/infrastructure-and-facilities/campus-tour/\"> here</a>\n",
      "You- Do you have a name?\n",
      "You can call me NEU Chatbot.\n",
      "You- What about the college timings?\n",
      "College is open 9am-5pm Monday-Friday!\n",
      "You- List of courses offered?\n",
      "Bachelors Programmes provided are Automobile Engineering, Civil Engineering, Computer Engineering, Electrical Engineering, Electronics and Telecommunications Engineering, Information Technology Engineering,Mechanical Engineering and Applied Sciences.For more details visit<a target=\"_blank\" href=\"https://NEU.ac.in/academics/\"> here</a>\n",
      "You- Infrastructure\n",
      " For campus tour please visit the following link.<a target=\"_blank\" href=\"https://NEU.ac.in/about/infrastructure-and-facilities/campus-tour/\"> here</a>\n",
      "You- How about the career fairs?\n",
      "360 Huntington Ave, Boston, MA 02115, United States\n",
      "You- Placements/\n",
      "360 Huntington Ave, Boston, MA 02115, United States\n",
      "You- placements?\n",
      "Various companies are coming to recruite our students and offer maximum packages.MAIN RECRUITERS are Google, Meta, Amazon, Microsoft etc.For more information visit <a target=\"_blank\" href=\"https://NEU.ac.in/students/placements/our-recruiters/\">here</a>\n",
      "You- Uniform\n",
      "NEU does not have uniform\n",
      "You- Ragging\n",
      "We are Proud to tell you that our college provides ragging free environment, and we have strict rules against ragging\n",
      "You- Ragging policies?\n",
      "We are Proud to tell you that our college provides ragging free environment, and we have strict rules against ragging\n",
      "You- Khoury ?\n",
      "360 Huntington Ave, Boston, MA 02115, United States\n"
     ]
    }
   ],
   "source": [
    "while True:\n",
    "    input_data = input(\"You- \")\n",
    "    answer = response(input_data)\n",
    "    answer"
   ]
  },
  {
   "cell_type": "code",
   "execution_count": null,
   "metadata": {},
   "outputs": [],
   "source": []
  }
 ],
 "metadata": {
  "kernelspec": {
   "display_name": "Python 3 (ipykernel)",
   "language": "python",
   "name": "python3"
  },
  "language_info": {
   "codemirror_mode": {
    "name": "ipython",
    "version": 3
   },
   "file_extension": ".py",
   "mimetype": "text/x-python",
   "name": "python",
   "nbconvert_exporter": "python",
   "pygments_lexer": "ipython3",
   "version": "3.9.7"
  }
 },
 "nbformat": 4,
 "nbformat_minor": 2
}
